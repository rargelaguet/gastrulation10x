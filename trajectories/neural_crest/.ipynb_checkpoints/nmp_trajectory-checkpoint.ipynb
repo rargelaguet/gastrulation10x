{
 "cells": [
  {
   "cell_type": "markdown",
   "metadata": {},
   "source": [
    "# Import libraries"
   ]
  },
  {
   "cell_type": "code",
   "execution_count": 3,
   "metadata": {
    "ExecuteTime": {
     "end_time": "2021-03-01T19:35:55.945188Z",
     "start_time": "2021-03-01T19:35:55.941352Z"
    }
   },
   "outputs": [],
   "source": [
    "import os\n",
    "from re import search\n",
    "from dfply import *\n",
    "import igraph\n",
    "import fa2"
   ]
  },
  {
   "cell_type": "markdown",
   "metadata": {
    "ExecuteTime": {
     "end_time": "2020-09-22T10:11:30.480623Z",
     "start_time": "2020-09-22T10:11:30.475170Z"
    }
   },
   "source": [
    "# Load settings"
   ]
  },
  {
   "cell_type": "code",
   "execution_count": 4,
   "metadata": {
    "ExecuteTime": {
     "end_time": "2021-03-02T08:51:16.118721Z",
     "start_time": "2021-03-02T08:51:16.061822Z"
    }
   },
   "outputs": [],
   "source": [
    "if search(\"ricard\", os.uname()[1]):\n",
    "    exec(open('/Users/argelagr/gastrulation10x/settings.py').read())\n",
    "    exec(open('/Users/ricard/gastrulation10x/utils.py').read())\n",
    "elif search(\"BI2404M\", os.uname()[1]):\n",
    "    exec(open('/Users/argelagr/gastrulation10x/settings.py').read())\n",
    "    exec(open('/Users/argelagr/gastrulation10x/utils.py').read())\n",
    "else:\n",
    "    exit(\"Computer not recognised\")"
   ]
  },
  {
   "cell_type": "markdown",
   "metadata": {},
   "source": [
    "## Define I/O"
   ]
  },
  {
   "cell_type": "code",
   "execution_count": 5,
   "metadata": {
    "ExecuteTime": {
     "end_time": "2021-03-02T08:51:17.587335Z",
     "start_time": "2021-03-02T08:51:17.580090Z"
    }
   },
   "outputs": [],
   "source": [
    "io[\"outdir\"] = io[\"basedir\"] + \"/results/trajectories/nmp_scanpy\""
   ]
  },
  {
   "cell_type": "markdown",
   "metadata": {},
   "source": [
    "## Define options "
   ]
  },
  {
   "cell_type": "markdown",
   "metadata": {},
   "source": [
    "scanpy options"
   ]
  },
  {
   "cell_type": "code",
   "execution_count": 6,
   "metadata": {
    "ExecuteTime": {
     "end_time": "2021-03-01T19:35:48.226165Z",
     "start_time": "2021-03-01T19:35:48.210519Z"
    }
   },
   "outputs": [],
   "source": [
    "# %%capture\n",
    "# sc.settings.verbosity = 3\n",
    "# sc.logging.print_versions()\n",
    "sc.settings.figdir = io[\"outdir\"]\n",
    "sc.settings.set_figure_params(dpi=80, frameon=False, figsize=(8, 7), facecolor='white')"
   ]
  },
  {
   "cell_type": "code",
   "execution_count": 7,
   "metadata": {
    "ExecuteTime": {
     "end_time": "2021-03-01T19:35:49.239627Z",
     "start_time": "2021-03-01T19:35:49.227517Z"
    }
   },
   "outputs": [],
   "source": [
    "opts[\"stages\"] = [\n",
    "\t\"E6.5\",\n",
    "\t\"E6.75\",\n",
    "\t\"E7.0\",\n",
    "\t\"E7.25\",\n",
    "\t\"E7.5\",\n",
    "\t\"E7.75\",\n",
    "\t\"E8.0\",\n",
    "\t\"E8.25\",\n",
    "\t\"E8.5\",\n",
    "\t\"mixed_gastrulation\"\n",
    "]\n",
    "\n",
    "opts[\"celltypes\"] = [\n",
    "   \"Epiblast\",\n",
    "   \"Primitive_Streak\",\n",
    "   \"Caudal_epiblast\",\n",
    "   \"Mixed_mesoderm\",\n",
    "   \"Caudal_Mesoderm\",\n",
    "   \"Somitic_mesoderm\",\n",
    "   \"NMP\",\n",
    "   \"Spinal_cord\"\n",
    "]"
   ]
  },
  {
   "cell_type": "markdown",
   "metadata": {},
   "source": [
    "## Load cell metadata"
   ]
  },
  {
   "cell_type": "code",
   "execution_count": 8,
   "metadata": {
    "ExecuteTime": {
     "end_time": "2021-03-01T19:37:06.013568Z",
     "start_time": "2021-03-01T19:37:05.482817Z"
    }
   },
   "outputs": [
    {
     "data": {
      "text/plain": [
       "(33314, 12)"
      ]
     },
     "execution_count": 8,
     "metadata": {},
     "output_type": "execute_result"
    }
   ],
   "source": [
    "metadata = (pd.read_table(io[\"metadata\"]) >>\n",
    "    mask(X[\"stripped\"]==False, X[\"doublet\"]==False) >>\n",
    "    mask(X[\"stage\"].isin(opts[\"stages\"]), X[\"celltype\"].isin(opts[\"celltypes\"]))\n",
    ")\n",
    "metadata.shape"
   ]
  },
  {
   "cell_type": "code",
   "execution_count": 9,
   "metadata": {
    "ExecuteTime": {
     "end_time": "2021-03-01T19:37:07.998884Z",
     "start_time": "2021-03-01T19:37:07.912204Z"
    }
   },
   "outputs": [
    {
     "data": {
      "text/html": [
       "<div>\n",
       "<style scoped>\n",
       "    .dataframe tbody tr th:only-of-type {\n",
       "        vertical-align: middle;\n",
       "    }\n",
       "\n",
       "    .dataframe tbody tr th {\n",
       "        vertical-align: top;\n",
       "    }\n",
       "\n",
       "    .dataframe thead th {\n",
       "        text-align: right;\n",
       "    }\n",
       "</style>\n",
       "<table border=\"1\" class=\"dataframe\">\n",
       "  <thead>\n",
       "    <tr style=\"text-align: right;\">\n",
       "      <th></th>\n",
       "      <th>cell</th>\n",
       "      <th>barcode</th>\n",
       "      <th>sample</th>\n",
       "      <th>stage</th>\n",
       "      <th>sequencing.batch</th>\n",
       "      <th>doublet</th>\n",
       "      <th>stripped</th>\n",
       "      <th>celltype</th>\n",
       "      <th>umapX</th>\n",
       "      <th>umapY</th>\n",
       "      <th>nFeature_RNA</th>\n",
       "      <th>nCount_RNA</th>\n",
       "    </tr>\n",
       "  </thead>\n",
       "  <tbody>\n",
       "    <tr>\n",
       "      <th>0</th>\n",
       "      <td>cell_1</td>\n",
       "      <td>AAAGGCCTCCACAA</td>\n",
       "      <td>1</td>\n",
       "      <td>E6.5</td>\n",
       "      <td>1</td>\n",
       "      <td>False</td>\n",
       "      <td>False</td>\n",
       "      <td>Epiblast</td>\n",
       "      <td>-10.227546</td>\n",
       "      <td>-2.881687</td>\n",
       "      <td>2547</td>\n",
       "      <td>8963</td>\n",
       "    </tr>\n",
       "    <tr>\n",
       "      <th>1</th>\n",
       "      <td>cell_10</td>\n",
       "      <td>AACTGTCTTCGCAA</td>\n",
       "      <td>1</td>\n",
       "      <td>E6.5</td>\n",
       "      <td>1</td>\n",
       "      <td>False</td>\n",
       "      <td>False</td>\n",
       "      <td>Epiblast</td>\n",
       "      <td>-11.243532</td>\n",
       "      <td>-0.876110</td>\n",
       "      <td>1933</td>\n",
       "      <td>5643</td>\n",
       "    </tr>\n",
       "    <tr>\n",
       "      <th>2</th>\n",
       "      <td>cell_100</td>\n",
       "      <td>CACAGATGGGGACA</td>\n",
       "      <td>1</td>\n",
       "      <td>E6.5</td>\n",
       "      <td>1</td>\n",
       "      <td>False</td>\n",
       "      <td>False</td>\n",
       "      <td>Epiblast</td>\n",
       "      <td>-10.904429</td>\n",
       "      <td>-0.963977</td>\n",
       "      <td>4278</td>\n",
       "      <td>24947</td>\n",
       "    </tr>\n",
       "    <tr>\n",
       "      <th>3</th>\n",
       "      <td>cell_1000</td>\n",
       "      <td>GCCACTACCCGCTT</td>\n",
       "      <td>3</td>\n",
       "      <td>E7.5</td>\n",
       "      <td>1</td>\n",
       "      <td>False</td>\n",
       "      <td>False</td>\n",
       "      <td>Caudal_epiblast</td>\n",
       "      <td>-2.943700</td>\n",
       "      <td>-0.782023</td>\n",
       "      <td>2829</td>\n",
       "      <td>9294</td>\n",
       "    </tr>\n",
       "    <tr>\n",
       "      <th>7</th>\n",
       "      <td>cell_100002</td>\n",
       "      <td>GACTGATGTCCCAC</td>\n",
       "      <td>29</td>\n",
       "      <td>E8.5</td>\n",
       "      <td>3</td>\n",
       "      <td>False</td>\n",
       "      <td>False</td>\n",
       "      <td>Spinal_cord</td>\n",
       "      <td>1.995580</td>\n",
       "      <td>-4.249367</td>\n",
       "      <td>3477</td>\n",
       "      <td>17315</td>\n",
       "    </tr>\n",
       "  </tbody>\n",
       "</table>\n",
       "</div>"
      ],
      "text/plain": [
       "          cell         barcode  sample stage  sequencing.batch  doublet  \\\n",
       "0       cell_1  AAAGGCCTCCACAA       1  E6.5                 1    False   \n",
       "1      cell_10  AACTGTCTTCGCAA       1  E6.5                 1    False   \n",
       "2     cell_100  CACAGATGGGGACA       1  E6.5                 1    False   \n",
       "3    cell_1000  GCCACTACCCGCTT       3  E7.5                 1    False   \n",
       "7  cell_100002  GACTGATGTCCCAC      29  E8.5                 3    False   \n",
       "\n",
       "   stripped         celltype      umapX     umapY  nFeature_RNA  nCount_RNA  \n",
       "0     False         Epiblast -10.227546 -2.881687          2547        8963  \n",
       "1     False         Epiblast -11.243532 -0.876110          1933        5643  \n",
       "2     False         Epiblast -10.904429 -0.963977          4278       24947  \n",
       "3     False  Caudal_epiblast  -2.943700 -0.782023          2829        9294  \n",
       "7     False      Spinal_cord   1.995580 -4.249367          3477       17315  "
      ]
     },
     "execution_count": 9,
     "metadata": {},
     "output_type": "execute_result"
    }
   ],
   "source": [
    "metadata.head()"
   ]
  },
  {
   "cell_type": "markdown",
   "metadata": {},
   "source": [
    "# Load anndata object"
   ]
  },
  {
   "cell_type": "code",
   "execution_count": null,
   "metadata": {
    "ExecuteTime": {
     "end_time": "2021-03-02T08:52:18.512957Z",
     "start_time": "2021-03-02T08:51:50.553303Z"
    }
   },
   "outputs": [
    {
     "name": "stderr",
     "output_type": "stream",
     "text": [
      "/Users/argelagr/opt/anaconda3/envs/main/lib/python3.9/site-packages/anndata/compat/__init__.py:180: FutureWarning: Moving element from .uns['neighbors']['distances'] to .obsp['distances'].\n",
      "\n",
      "This is where adjacency matrices should go now.\n",
      "  warn(\n",
      "/Users/argelagr/opt/anaconda3/envs/main/lib/python3.9/site-packages/anndata/compat/__init__.py:180: FutureWarning: Moving element from .uns['neighbors']['connectivities'] to .obsp['connectivities'].\n",
      "\n",
      "This is where adjacency matrices should go now.\n",
      "  warn(\n"
     ]
    }
   ],
   "source": [
    "adata = load_adata(\n",
    "    adata_file = io[\"anndata\"], \n",
    "    metadata_file = io[\"metadata\"],\n",
    "    cells = metadata.cell.values, \n",
    "    normalise = True, \n",
    "    filter_lowly_expressed_genes = True\n",
    ")\n",
    "adata"
   ]
  },
  {
   "cell_type": "code",
   "execution_count": null,
   "metadata": {
    "ExecuteTime": {
     "end_time": "2021-03-02T09:36:04.018239Z",
     "start_time": "2021-03-02T09:36:03.988201Z"
    }
   },
   "outputs": [],
   "source": [
    "adata.obs[\"celltype\"].value_counts()"
   ]
  },
  {
   "cell_type": "code",
   "execution_count": null,
   "metadata": {
    "ExecuteTime": {
     "end_time": "2021-03-02T09:36:58.989762Z",
     "start_time": "2021-03-02T09:36:58.105129Z"
    }
   },
   "outputs": [],
   "source": [
    "sc.pl.scatter(adata, color='celltype', basis=\"umap\", size=5, legend_loc='on data', legend_fontsize=7)"
   ]
  },
  {
   "cell_type": "markdown",
   "metadata": {},
   "source": [
    "## Feature selection"
   ]
  },
  {
   "cell_type": "code",
   "execution_count": null,
   "metadata": {
    "ExecuteTime": {
     "end_time": "2021-03-02T09:37:13.049803Z",
     "start_time": "2021-03-02T09:37:09.444038Z"
    }
   },
   "outputs": [],
   "source": [
    "sc.pp.highly_variable_genes(adata, n_top_genes=1000)"
   ]
  },
  {
   "cell_type": "code",
   "execution_count": null,
   "metadata": {
    "ExecuteTime": {
     "end_time": "2021-03-02T09:37:20.452720Z",
     "start_time": "2021-03-02T09:37:20.439490Z"
    }
   },
   "outputs": [],
   "source": [
    "adata.var[\"highly_variable\"].sum()"
   ]
  },
  {
   "cell_type": "markdown",
   "metadata": {},
   "source": [
    "## Dimensionality reduction"
   ]
  },
  {
   "cell_type": "markdown",
   "metadata": {},
   "source": [
    "### PCA"
   ]
  },
  {
   "cell_type": "code",
   "execution_count": null,
   "metadata": {
    "ExecuteTime": {
     "end_time": "2021-03-02T09:37:31.054220Z",
     "start_time": "2021-03-02T09:37:29.708543Z"
    }
   },
   "outputs": [],
   "source": [
    "sc.tl.pca(adata, n_comps=15)"
   ]
  },
  {
   "cell_type": "code",
   "execution_count": null,
   "metadata": {},
   "outputs": [],
   "source": [
    "sc.pl.scatter(adata, color='celltype', basis=\"pca\", size=10, legend_loc='on data', legend_fontsize=7, \n",
    "              save=\"blood_pca_celltype.pdf\")"
   ]
  },
  {
   "cell_type": "markdown",
   "metadata": {},
   "source": [
    "## Compute neighbors"
   ]
  },
  {
   "cell_type": "code",
   "execution_count": null,
   "metadata": {
    "ExecuteTime": {
     "end_time": "2021-03-02T09:55:27.617818Z",
     "start_time": "2021-03-02T09:55:02.999737Z"
    }
   },
   "outputs": [],
   "source": [
    "sc.pp.neighbors(adata, n_neighbors=25, use_rep='X_pca')"
   ]
  },
  {
   "cell_type": "markdown",
   "metadata": {},
   "source": [
    "### UMAP"
   ]
  },
  {
   "cell_type": "code",
   "execution_count": null,
   "metadata": {
    "ExecuteTime": {
     "end_time": "2021-03-02T09:55:50.862441Z",
     "start_time": "2021-03-02T09:55:31.672324Z"
    }
   },
   "outputs": [],
   "source": [
    "sc.tl.umap(adata, min_dist=0.3, spread=1.0)"
   ]
  },
  {
   "cell_type": "code",
   "execution_count": null,
   "metadata": {
    "ExecuteTime": {
     "end_time": "2021-03-02T09:55:52.892760Z",
     "start_time": "2021-03-02T09:55:52.457957Z"
    }
   },
   "outputs": [],
   "source": [
    "sc.pl.scatter(adata, color='celltype', basis=\"umap\", size=10, legend_loc='on data', legend_fontsize=7,\n",
    "              save = \"blood_umap_celltype.pdf\")"
   ]
  },
  {
   "cell_type": "code",
   "execution_count": null,
   "metadata": {
    "ExecuteTime": {
     "end_time": "2020-11-07T12:20:07.242257Z",
     "start_time": "2020-11-07T12:20:07.223046Z"
    }
   },
   "outputs": [],
   "source": [
    "adata.obsm.keys()"
   ]
  },
  {
   "cell_type": "markdown",
   "metadata": {},
   "source": [
    "### Force-directed layout"
   ]
  },
  {
   "cell_type": "code",
   "execution_count": null,
   "metadata": {
    "ExecuteTime": {
     "end_time": "2021-03-02T10:00:14.175153Z",
     "start_time": "2021-03-02T09:57:01.396549Z"
    }
   },
   "outputs": [],
   "source": [
    "sc.tl.draw_graph(adata, layout='fa', init_pos=None)"
   ]
  },
  {
   "cell_type": "code",
   "execution_count": null,
   "metadata": {
    "ExecuteTime": {
     "end_time": "2021-03-02T10:02:07.132457Z",
     "start_time": "2021-03-02T10:02:06.744685Z"
    }
   },
   "outputs": [],
   "source": [
    "# sc.pl.draw_graph(adata, color='celltype', legend_loc='on data')\n",
    "sc.pl.draw_graph(adata, color='celltype', size=12, legend_loc='on data', legend_fontsize=7,\n",
    "              save = \"blood_fa2_celltype.pdf\")"
   ]
  },
  {
   "cell_type": "code",
   "execution_count": null,
   "metadata": {},
   "outputs": [],
   "source": [
    "sc.pl.draw_graph(adata, color='sample', size=12, legend_loc='on data', legend_fontsize=7,\n",
    "              save = \"blood_fa2_sample.pdf\")"
   ]
  },
  {
   "cell_type": "markdown",
   "metadata": {},
   "source": [
    "## Graph abstraction\n"
   ]
  },
  {
   "cell_type": "code",
   "execution_count": null,
   "metadata": {
    "ExecuteTime": {
     "end_time": "2021-03-02T10:02:25.114667Z",
     "start_time": "2021-03-02T10:02:24.074836Z"
    }
   },
   "outputs": [],
   "source": [
    "sc.tl.paga(adata, groups='celltype')"
   ]
  },
  {
   "cell_type": "code",
   "execution_count": null,
   "metadata": {
    "ExecuteTime": {
     "end_time": "2021-03-02T10:02:27.400908Z",
     "start_time": "2021-03-02T10:02:25.913038Z"
    }
   },
   "outputs": [],
   "source": [
    "sc.pl.paga_compare(adata, basis='umap',legend_loc='on data',\n",
    "                   fontsize=3, threshold=0.23, color='celltype', edge_width_scale=0.1)"
   ]
  },
  {
   "cell_type": "code",
   "execution_count": null,
   "metadata": {
    "ExecuteTime": {
     "end_time": "2020-11-07T12:20:52.583634Z",
     "start_time": "2020-11-07T12:20:52.366354Z"
    }
   },
   "outputs": [],
   "source": [
    "sc.pl.paga(adata, threshold=0.3, fontsize=3, edge_width_scale=0.15, node_size_power=0.5, color='celltype')"
   ]
  },
  {
   "cell_type": "markdown",
   "metadata": {},
   "source": [
    "recomputing the graph using PAGA initialisation"
   ]
  },
  {
   "cell_type": "code",
   "execution_count": null,
   "metadata": {
    "ExecuteTime": {
     "end_time": "2021-03-02T10:06:45.203114Z",
     "start_time": "2021-03-02T10:03:31.350304Z"
    }
   },
   "outputs": [],
   "source": [
    "sc.tl.draw_graph(adata, layout='fa', init_pos=\"paga\")"
   ]
  },
  {
   "cell_type": "code",
   "execution_count": null,
   "metadata": {
    "ExecuteTime": {
     "end_time": "2021-03-02T10:29:38.770804Z",
     "start_time": "2021-03-02T10:29:38.305206Z"
    }
   },
   "outputs": [],
   "source": [
    "sc.pl.draw_graph(adata, color='celltype', legend_loc='on data')"
   ]
  },
  {
   "cell_type": "markdown",
   "metadata": {},
   "source": [
    "## Save"
   ]
  },
  {
   "cell_type": "code",
   "execution_count": null,
   "metadata": {},
   "outputs": [],
   "source": [
    "trajectory = pd.DataFrame(adata.obsm[\"X_draw_graph_fa\"], index=adata.obs_names, columns=[\"FA1\",\"FA2\"])\n",
    "# trajectory.to_csv(io[\"outdir\"] + \"/blood_trajectory.txt.gz\", sep='\\t')"
   ]
  },
  {
   "cell_type": "code",
   "execution_count": null,
   "metadata": {},
   "outputs": [],
   "source": [
    "# adata.write(io[\"outdir\"] + \"/blood_anndata.h5ad\")\n",
    "# metadata.to_csv(io[\"outdir\"] + \"/blood_sample_metadata.txt.gz\", sep='\\t')"
   ]
  }
 ],
 "metadata": {
  "kernelspec": {
   "display_name": "Python 3 (ipykernel)",
   "language": "python",
   "name": "python3"
  },
  "language_info": {
   "codemirror_mode": {
    "name": "ipython",
    "version": 3
   },
   "file_extension": ".py",
   "mimetype": "text/x-python",
   "name": "python",
   "nbconvert_exporter": "python",
   "pygments_lexer": "ipython3",
   "version": "3.9.5"
  },
  "varInspector": {
   "cols": {
    "lenName": 16,
    "lenType": 16,
    "lenVar": 40
   },
   "kernels_config": {
    "python": {
     "delete_cmd_postfix": "",
     "delete_cmd_prefix": "del ",
     "library": "var_list.py",
     "varRefreshCmd": "print(var_dic_list())"
    },
    "r": {
     "delete_cmd_postfix": ") ",
     "delete_cmd_prefix": "rm(",
     "library": "var_list.r",
     "varRefreshCmd": "cat(var_dic_list()) "
    }
   },
   "types_to_exclude": [
    "module",
    "function",
    "builtin_function_or_method",
    "instance",
    "_Feature"
   ],
   "window_display": false
  }
 },
 "nbformat": 4,
 "nbformat_minor": 2
}
